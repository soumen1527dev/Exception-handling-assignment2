{
 "cells": [
  {
   "cell_type": "code",
   "execution_count": 1,
   "id": "eabf4980-ad1b-4a50-af3e-b88092f3961c",
   "metadata": {},
   "outputs": [
    {
     "name": "stdout",
     "output_type": "stream",
     "text": [
      "Caught a custom exception: This is a custom exception\n"
     ]
    }
   ],
   "source": [
    "# Q1.Explain why we have to use the Exception class while creating a Custom Exception.\n",
    "# Note: Here Exception class refers to the base class for all the exceptions.\n",
    "# Ans :-\n",
    "\n",
    "# In Python, when you create a custom exception, it's recommended to derive it from the built-in \n",
    "# BaseException or one of its subclasses like Exception. Here's why you should use the Exception \n",
    "# class or its subclasses when creating custom exceptions in Python:\n",
    "    \n",
    "# 1.Inheritance and Hierarchy: Exception handling in Python is hierarchical. By inheriting from a built-in\n",
    "# exception class like Exception, you create a custom exception that fits into the existing exception hierarchy. \n",
    "# This hierarchy allows you to catch exceptions at different levels of specificity.This hierarchy allows you \n",
    "# to catch exceptions at different levels of specificity. For example, you can catch a specific custom \n",
    "# exception or catch more general exceptions that inherit from Exception.\n",
    "\n",
    "# 2.Consistency: Following established conventions is crucial in software development. When you use Exception as \n",
    "# the base class for your custom exception, you align your code with the Python community's expectations. Other\n",
    "# developers who read your code will recognize your custom exception as an exception class and will know how to\n",
    "# handle it according to Python's standard exception-handling practices.\n",
    "\n",
    "# 3.Compatibility: Python's standard libraries and third-party libraries are designed to work with exceptions derived \n",
    "# from the built-in exception classes. If you create custom exceptions that inherit from Exception, they will seamlessly \n",
    "# integrate with these libraries. This compatibility is essential for maintaining consistency and interoperability in your codebase.\n",
    "\n",
    "# 4.Clarity and Readability: When you use Exception as the base class, your code becomes more self-explanatory. It's immediately \n",
    "# evident that a particular class is an exception class, and anyone reading your code can rely on the common properties and methods \n",
    "# available to exceptions. This improves code readability and helps with documentation.\n",
    "\n",
    "#Example :-\n",
    "\n",
    "\n",
    "class CustomError(Exception):\n",
    "    def __init__(self, message):\n",
    "        super().__init__(message)\n",
    "\n",
    "try:\n",
    "    # Some code that may raise a custom exception\n",
    "    raise CustomError(\"This is a custom exception\")\n",
    "except CustomError as ce:\n",
    "    print(f\"Caught a custom exception: {ce}\")\n",
    "except Exception as e:\n",
    "    print(f\"Caught a general exception: {e}\")\n"
   ]
  },
  {
   "cell_type": "code",
   "execution_count": 3,
   "id": "c396ff42-dbcc-46e7-ab70-208a0245cf7c",
   "metadata": {},
   "outputs": [],
   "source": [
    "# Q2. Write a python program to print Python Exception Hierarchy.\n",
    "# Ans :-\n",
    "\n",
    "# Example :-\n",
    "# def print_exception_hierarchy(exception_class, indent=0):\n",
    "#     print('  ' * indent + exception_class.__name__)\n",
    "#     for subclass in exception_class.__subclasses__():\n",
    "#         print_exception_hierarchy(subclass, indent + 1)\n",
    "\n",
    "# # Start with the base Exception class to print the entire hierarchy\n",
    "# print_exception_hierarchy(Exception)"
   ]
  },
  {
   "cell_type": "code",
   "execution_count": 4,
   "id": "29421025-6033-401f-b0d8-0bf43221383f",
   "metadata": {},
   "outputs": [
    {
     "name": "stdout",
     "output_type": "stream",
     "text": [
      "Error: division by zero\n"
     ]
    }
   ],
   "source": [
    "# Q3. What errors are defined in the ArithmeticError class? Explain any two with an example.\n",
    "# Ans :-\n",
    "\n",
    "# Example1 :-\n",
    "\n",
    "dividend = 10\n",
    "divisor = 0\n",
    "\n",
    "try:\n",
    "    result = dividend / divisor  # This will raise a ZeroDivisionError\n",
    "except ZeroDivisionError as e:\n",
    "    print(f\"Error: {e}\")\n"
   ]
  },
  {
   "cell_type": "code",
   "execution_count": 7,
   "id": "96ad735e-4e11-472a-88f2-cb9ab5ac9d5d",
   "metadata": {},
   "outputs": [],
   "source": [
    "# Example2 :-\n",
    "\n",
    "import sys\n",
    "\n",
    "try:\n",
    "    large_number = sys.maxsize + 1  # This will raise an OverflowError on some systems\n",
    "except OverflowError as e:\n",
    "    print(f\"Error: {e}\")"
   ]
  },
  {
   "cell_type": "code",
   "execution_count": 9,
   "id": "c821af30-aadf-4788-ac21-55ee8b3eb51f",
   "metadata": {},
   "outputs": [
    {
     "name": "stdout",
     "output_type": "stream",
     "text": [
      "'key2'\n"
     ]
    }
   ],
   "source": [
    "# Q4. Why LookupError class is used? Explain with an example KeyError and IndexError.\n",
    "# Ans :-\n",
    "\n",
    "# The LookupError class is a base class for exceptions that occur when you try to access or look up items \n",
    "# in sequences or dictionaries in Python. It is used to handle errors related to index-based or key-based \n",
    "# access to data structures. Two common exceptions derived from LookupError are KeyError and IndexError.\n",
    "# Let's explain these two exceptions with examples:\n",
    "\n",
    "\n",
    "# Keyerror Example :-\n",
    "\n",
    "try :\n",
    "    d = {\"key\" : \"soumen\", 1 : [1,2,3,4,5,6]}\n",
    "    print (d[\"key2\"])\n",
    "except KeyError as e :\n",
    "    print (e)"
   ]
  },
  {
   "cell_type": "code",
   "execution_count": 10,
   "id": "b580d1bb-0021-4e03-b689-7a516b392ef2",
   "metadata": {},
   "outputs": [
    {
     "name": "stdout",
     "output_type": "stream",
     "text": [
      "list index out of range\n"
     ]
    }
   ],
   "source": [
    "# Index Error Example :-\n",
    "\n",
    "try :\n",
    "    l = [1,2,3,4,5]\n",
    "    print (l[8])\n",
    "except IndexError as e:\n",
    "    print (e)    "
   ]
  },
  {
   "cell_type": "code",
   "execution_count": 14,
   "id": "dd884321-a8bc-4253-82d1-8c8cdd5314e2",
   "metadata": {},
   "outputs": [
    {
     "name": "stdout",
     "output_type": "stream",
     "text": [
      "No module named 'soumen'\n"
     ]
    }
   ],
   "source": [
    "# Q5. Explain ImportError. What is ModuleNotFoundError?\n",
    "# Ans :-\n",
    "\n",
    "# In Python, an ImportError is raised when there is a problem importing\n",
    "# a module or a name from a module. It occurs when the Python interpreter \n",
    "# cannot locate or load the module you are trying to import. \n",
    "\n",
    "try:\n",
    "    import soumen\n",
    "except ImportError as e:\n",
    "    print (e)"
   ]
  },
  {
   "cell_type": "code",
   "execution_count": 15,
   "id": "c99cf730-d3d7-42de-87f9-e2cb412fd2dc",
   "metadata": {},
   "outputs": [],
   "source": [
    "#ModuleNotFound error\n",
    "\n",
    "# In Python, a ModuleNotFoundError is an exception that occurs when the Python \n",
    "# interpreter cannot find the module you are trying to import. This error typically \n",
    "# arises when you attempt to import a module that does not exist in the Python \n",
    "\n",
    "# Example :-\n",
    "\n",
    "# This will raise a ModuleNotFoundError because the module \"mymodule\" does not exist\n",
    "# import mymodule"
   ]
  },
  {
   "cell_type": "code",
   "execution_count": 18,
   "id": "dec2e94d-fd9d-4e3d-a506-2595601e0d4c",
   "metadata": {},
   "outputs": [
    {
     "name": "stdout",
     "output_type": "stream",
     "text": [
      "division by zero\n"
     ]
    }
   ],
   "source": [
    "# Q6. List down some best practices for exception handling in python.\n",
    "# Ans :-\n",
    "\n",
    "# 1.Use always a specific exception\n",
    "try :\n",
    "    10/0\n",
    "except ZeroDivisionError as e:\n",
    "    print (e)"
   ]
  },
  {
   "cell_type": "code",
   "execution_count": 20,
   "id": "b1bfd128-a748-4f1e-9589-6d9bce455910",
   "metadata": {},
   "outputs": [],
   "source": [
    "# 2.Avoid Bare Excepts:\n",
    "\n",
    "# Avoid using bare except clauses (i.e., without specifying an exception type) \n",
    "# because they can catch unexpected errors and make debugging difficult. Instead, \n",
    "# be explicit about the exceptions you expect.\n",
    "\n",
    "# Example :\n",
    "\n",
    "# try:\n",
    "    # Some code\n",
    "# except Exception as e:\n",
    "    # Handle specific exceptions, not a broad \"Exception\""
   ]
  },
  {
   "cell_type": "code",
   "execution_count": 21,
   "id": "ae6aedb9-6cb1-4ac9-9e63-0af9827ad500",
   "metadata": {},
   "outputs": [],
   "source": [
    "# 3.Use finally for Cleanup:\n",
    "\n",
    "# Use the finally block to ensure that resources are properly released or cleanup \n",
    "# tasks are executed, regardless of whether an exception is raised or not. This \n",
    "# is particularly useful for managing resources like files or database connections.\n",
    "\n",
    "# Example :-\n",
    "\n",
    "# try:\n",
    "    # Code that may raise an exception\n",
    "# except SomeException as e:\n",
    "    # Handle the exception\n",
    "# finally:\n",
    "    # Cleanup code (e.g., close a file or database connection)"
   ]
  },
  {
   "cell_type": "code",
   "execution_count": 26,
   "id": "4f0313d4-8d39-455a-95bb-1bf2306544db",
   "metadata": {},
   "outputs": [],
   "source": [
    "# 4.Logging: Consider using a logging library like logging to log exceptions and \n",
    "# error information. Proper logging helps with debugging and monitoring the application's behavior.\n",
    "\n",
    "# Example :-\n",
    "\n",
    "import logging\n",
    "logging.basicConfig(filename = \"error.log\", level = logging.ERROR)\n",
    "\n",
    "try:\n",
    "    10/0\n",
    "except ZeroDivisionError as e:\n",
    "    logging.error(\"I am trying to handle a zerodivision error{}\".format(e))"
   ]
  },
  {
   "cell_type": "code",
   "execution_count": 27,
   "id": "591e61fa-c120-42dd-9aca-08360fe88452",
   "metadata": {},
   "outputs": [],
   "source": [
    "# 5.Raising Exceptions: Raise exceptions when necessary to signal errors or issues. We can create \n",
    "# custom exceptions by subclassing built-in exceptions or using the raise statement with a descriptive error message.\n",
    "\n",
    "# Example :-\n",
    "\n",
    "# if condition:\n",
    "#     raise CustomException(\"This is a custom error message\")"
   ]
  },
  {
   "cell_type": "code",
   "execution_count": null,
   "id": "7da9c5a7-1628-4676-9771-51e61cc41272",
   "metadata": {},
   "outputs": [],
   "source": [
    "# 6.Use Context Managers: When working with resources like files or database connections, use context \n",
    "# managers (e.g., with statements) to ensure that the resources are properly managed and automatically closed.\n",
    "\n",
    "# Example :-\n",
    "\n"
   ]
  }
 ],
 "metadata": {
  "kernelspec": {
   "display_name": "Python 3 (ipykernel)",
   "language": "python",
   "name": "python3"
  },
  "language_info": {
   "codemirror_mode": {
    "name": "ipython",
    "version": 3
   },
   "file_extension": ".py",
   "mimetype": "text/x-python",
   "name": "python",
   "nbconvert_exporter": "python",
   "pygments_lexer": "ipython3",
   "version": "3.10.8"
  }
 },
 "nbformat": 4,
 "nbformat_minor": 5
}
